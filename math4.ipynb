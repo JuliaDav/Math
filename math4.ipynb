{
 "cells": [
  {
   "cell_type": "code",
   "execution_count": 1,
   "metadata": {},
   "outputs": [],
   "source": [
    "import numpy as np"
   ]
  },
  {
   "cell_type": "markdown",
   "metadata": {},
   "source": [
    " ## 4.1"
   ]
  },
  {
   "cell_type": "code",
   "execution_count": 37,
   "metadata": {},
   "outputs": [
    {
     "name": "stdout",
     "output_type": "stream",
     "text": [
      "3\n"
     ]
    }
   ],
   "source": [
    "a = np.random.randint(0,36)\n",
    "print(a)"
   ]
  },
  {
   "cell_type": "code",
   "execution_count": 38,
   "metadata": {},
   "outputs": [
    {
     "name": "stdout",
     "output_type": "stream",
     "text": [
      "red\n"
     ]
    }
   ],
   "source": [
    "if a == 0:\n",
    "    print('zero')\n",
    "elif a % 2 == 0:\n",
    "    print('black')\n",
    "else:\n",
    "    print('red')"
   ]
  },
  {
   "cell_type": "markdown",
   "metadata": {},
   "source": [
    "## 4.2.1"
   ]
  },
  {
   "cell_type": "code",
   "execution_count": 55,
   "metadata": {},
   "outputs": [
    {
     "name": "stdout",
     "output_type": "stream",
     "text": [
      "По теореме сложения вероятностей, вероятность выпадения красного поля = 1/37 * 18, т.е 0,4864\n",
      "red = 49763, black = 47378, zeros = 2859\n",
      "при количестве раундов 100000 вероятность выпадения красного поля = 0.49763\n"
     ]
    }
   ],
   "source": [
    "print('По теореме сложения вероятностей, вероятность выпадения красного поля = 1/37 * 18, т.е 0,4864')\n",
    "k=100000\n",
    "zeros = 0\n",
    "black = 0\n",
    "red = 0\n",
    "for i in range(k):\n",
    "    a = np.random.randint(0,36)\n",
    "    if a == 0:\n",
    "        zeros = zeros + 1\n",
    "    elif a % 2 == 0:\n",
    "        black = black + 1\n",
    "    else:\n",
    "        red = red + 1\n",
    "print(f'red = {red}, black = {black}, zeros = {zeros}')\n",
    "print(f'при количестве раундов {k} вероятность выпадения красного поля = {red/k}')"
   ]
  },
  {
   "cell_type": "markdown",
   "metadata": {},
   "source": [
    "## 4.2.2 \n",
    "Сгенерируйте десять выборок случайных чисел х0, …, х9.\n",
    "и постройте гистограмму распределения случайной суммы х0+х1+ …+ х9.\n"
   ]
  },
  {
   "cell_type": "code",
   "execution_count": 80,
   "metadata": {},
   "outputs": [
    {
     "name": "stdout",
     "output_type": "stream",
     "text": [
      "469\n",
      "554\n",
      "490\n",
      "512\n",
      "434\n",
      "478\n",
      "391\n",
      "492\n",
      "423\n",
      "510\n"
     ]
    }
   ],
   "source": [
    "sums = []\n",
    "for i in range(10):\n",
    "    x = []\n",
    "    for i in range(10):\n",
    "        a = np.random.randint(0,100)\n",
    "        x.append(a)\n",
    "    print(sum(x))\n",
    "    sums.append(sum(x))"
   ]
  },
  {
   "cell_type": "code",
   "execution_count": 70,
   "metadata": {},
   "outputs": [],
   "source": [
    "import matplotlib.pyplot as plt"
   ]
  },
  {
   "cell_type": "code",
   "execution_count": 71,
   "metadata": {},
   "outputs": [],
   "source": [
    "%matplotlib inline"
   ]
  },
  {
   "cell_type": "code",
   "execution_count": 81,
   "metadata": {},
   "outputs": [
    {
     "data": {
      "text/plain": [
       "(array([2., 1., 2., 4., 1.]),\n",
       " array([391. , 423.6, 456.2, 488.8, 521.4, 554. ]),\n",
       " <a list of 5 Patch objects>)"
      ]
     },
     "execution_count": 81,
     "metadata": {},
     "output_type": "execute_result"
    },
    {
     "data": {
      "image/png": "[encoded data removed]",
      "text/plain": [
       "<Figure size 432x288 with 1 Axes>"
      ]
     },
     "metadata": {
      "needs_background": "light"
     },
     "output_type": "display_data"
    }
   ],
   "source": [
    "plt.hist(sums,5)"
   ]
  },
  {
   "cell_type": "markdown",
   "metadata": {},
   "source": [
    "## 3.1"
   ]
  },
  {
   "cell_type": "code",
   "execution_count": 84,
   "metadata": {},
   "outputs": [
    {
     "name": "stdout",
     "output_type": "stream",
     "text": [
      "3667 10000 0.3667\n"
     ]
    }
   ],
   "source": [
    "k, n = 0, 10000\n",
    "a = np.random.randint(0,2,n)\n",
    "b = np.random.randint(0,2,n)\n",
    "c = np.random.randint(0,2,n)\n",
    "d = np.random.randint(0,2,n)\n",
    "x = a + b + c + d\n",
    "for i in range (0,n):\n",
    "    if x[i] == 2:\n",
    "        k = k + 1\n",
    "print(k,n,k/n)"
   ]
  },
  {
   "cell_type": "markdown",
   "metadata": {},
   "source": [
    "Расчет по формуле:"
   ]
  },
  {
   "cell_type": "code",
   "execution_count": 87,
   "metadata": {},
   "outputs": [
    {
     "data": {
      "text/plain": [
       "0.375"
      ]
     },
     "execution_count": 87,
     "metadata": {},
     "output_type": "execute_result"
    }
   ],
   "source": [
    "import math\n",
    "p = 0.5\n",
    "q = 1 - p\n",
    "n = 4\n",
    "k = 2\n",
    "Cnk = math.factorial(n) / (math.factorial(k)*math.factorial(n-k))\n",
    "Pnk = Cnk * p**k * q**(n-k)\n",
    "Pnk"
   ]
  },
  {
   "cell_type": "markdown",
   "metadata": {},
   "source": [
    "## 3.2 \n",
    "Возьмем три испытания, и вычислим вероятность трех успехов."
   ]
  },
  {
   "cell_type": "code",
   "execution_count": 91,
   "metadata": {},
   "outputs": [
    {
     "name": "stdout",
     "output_type": "stream",
     "text": [
      "1262 10000 0.1262\n"
     ]
    }
   ],
   "source": [
    "k, n = 0, 10000\n",
    "a = np.random.randint(0,2,n)\n",
    "b = np.random.randint(0,2,n)\n",
    "c = np.random.randint(0,2,n)\n",
    "x = a + b + c \n",
    "for i in range (0,n):\n",
    "    if x[i] == 3:\n",
    "        k = k + 1\n",
    "print(k,n,k/n)"
   ]
  },
  {
   "cell_type": "code",
   "execution_count": 89,
   "metadata": {},
   "outputs": [
    {
     "data": {
      "text/plain": [
       "0.125"
      ]
     },
     "execution_count": 89,
     "metadata": {},
     "output_type": "execute_result"
    }
   ],
   "source": [
    "p = 0.5\n",
    "q = 1 - p\n",
    "n = 3\n",
    "k = 3\n",
    "Cnk = math.factorial(n) / (math.factorial(k)*math.factorial(n-k))\n",
    "Pnk = Cnk * p**k * q**(n-k)\n",
    "Pnk"
   ]
  },
  {
   "cell_type": "markdown",
   "metadata": {},
   "source": [
    "## 4"
   ]
  },
  {
   "cell_type": "code",
   "execution_count": 92,
   "metadata": {},
   "outputs": [],
   "source": [
    "import itertools"
   ]
  },
  {
   "cell_type": "code",
   "execution_count": 105,
   "metadata": {},
   "outputs": [
    {
     "name": "stdout",
     "output_type": "stream",
     "text": [
      "120\n"
     ]
    }
   ],
   "source": [
    "n = 0\n",
    "for p in itertools.permutations('01234',5):\n",
    "    n = n + 1\n",
    "    #print(''.join(str(x) for x in p))\n",
    "print(n)"
   ]
  },
  {
   "cell_type": "code",
   "execution_count": 110,
   "metadata": {},
   "outputs": [
    {
     "name": "stdout",
     "output_type": "stream",
     "text": [
      "01\n",
      "02\n",
      "03\n",
      "04\n",
      "12\n",
      "13\n",
      "14\n",
      "23\n",
      "24\n",
      "34\n",
      " количество сочетаний = 10\n"
     ]
    }
   ],
   "source": [
    "n = 0\n",
    "for p in itertools.combinations('01234',2):\n",
    "    n += 1\n",
    "    print(''.join(p))\n",
    "print(f' количество сочетаний = {n}')"
   ]
  },
  {
   "cell_type": "code",
   "execution_count": 113,
   "metadata": {},
   "outputs": [
    {
     "name": "stdout",
     "output_type": "stream",
     "text": [
      " количество размещений = 20\n"
     ]
    }
   ],
   "source": [
    "n = 0\n",
    "for p in itertools.permutations('01234',2):\n",
    "    n = n + 1\n",
    "    #print(''.join(str(x) for x in p))\n",
    "print(f' количество размещений = {n}')"
   ]
  },
  {
   "cell_type": "markdown",
   "metadata": {},
   "source": [
    "## 5"
   ]
  },
  {
   "cell_type": "code",
   "execution_count": 157,
   "metadata": {},
   "outputs": [
    {
     "name": "stderr",
     "output_type": "stream",
     "text": [
      "C:\\Users\\marty\\Anaconda3\\lib\\site-packages\\ipykernel_launcher.py:10: FutureWarning: `rcond` parameter will change to the default of machine precision times ``max(M, N)`` where M and N are the input matrix dimensions.\n",
      "To use the future default and silence this warning we advise to pass `rcond=None`, to keep using the old, explicitly pass `rcond=-1`.\n",
      "  # Remove the CWD from sys.path while we load stuff.\n"
     ]
    },
    {
     "data": {
      "text/plain": [
       "<function matplotlib.pyplot.show(*args, **kw)>"
      ]
     },
     "execution_count": 157,
     "metadata": {},
     "output_type": "execute_result"
    },
    {
     "data": {
      "image/png": "[encoded data removed]",
      "text/plain": [
       "<Figure size 432x288 with 1 Axes>"
      ]
     },
     "metadata": {
      "needs_background": "light"
     },
     "output_type": "display_data"
    }
   ],
   "source": [
    "n = 100\n",
    "r = 0.7\n",
    "x = np.random.rand(n)\n",
    "y = r * x + (1-r) * np.random.rand(n)\n",
    "plt.plot(x,y,'o')\n",
    "plt.grid('true')\n",
    "a = (np.sum(x)*np.sum(y)-n*np.sum(x*y))/(np.sum(x)*np.sum(x)-n*np.sum(x*x))\n",
    "b = (np.sum(y)-a*np.sum(x))/n\n",
    "A = np.vstack([x,np.ones(len(x))]).T\n",
    "a1,b1 = np.linalg.lstsq(A,y)[0]\n",
    "plt.plot([0,1], [b, a+b])\n",
    "plt.show"
   ]
  },
  {
   "cell_type": "code",
   "execution_count": 158,
   "metadata": {},
   "outputs": [
    {
     "data": {
      "text/plain": [
       "3.2061444969292846e+29"
      ]
     },
     "execution_count": 158,
     "metadata": {},
     "output_type": "execute_result"
    }
   ],
   "source": [
    "p = np.sum((x - np.mean(x))*(y - np.mean(y)))/math.sqrt(np.sum(x - np.mean(x))**2 * np.sum(y - np.mean(y))**2)\n",
    "p"
   ]
  },
  {
   "cell_type": "code",
   "execution_count": 159,
   "metadata": {},
   "outputs": [
    {
     "data": {
      "text/plain": [
       "array([[1.     , 0.91814],\n",
       "       [0.91814, 1.     ]])"
      ]
     },
     "execution_count": 159,
     "metadata": {},
     "output_type": "execute_result"
    }
   ],
   "source": [
    "p = np.corrcoef(x,y)\n",
    "p"
   ]
  },
  {
   "cell_type": "code",
   "execution_count": null,
   "metadata": {},
   "outputs": [],
   "source": []
  }
 ],
 "metadata": {
  "kernelspec": {
   "display_name": "Python 3",
   "language": "python",
   "name": "python3"
  },
  "language_info": {
   "codemirror_mode": {
    "name": "ipython",
    "version": 3
   },
   "file_extension": ".py",
   "mimetype": "text/x-python",
   "name": "python",
   "nbconvert_exporter": "python",
   "pygments_lexer": "ipython3",
   "version": "3.7.3"
  }
 },
 "nbformat": 4,
 "nbformat_minor": 2
}
